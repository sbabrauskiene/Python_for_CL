{
  "cells": [
    {
      "cell_type": "markdown",
      "metadata": {
        "id": "view-in-github",
        "colab_type": "text"
      },
      "source": [
        "<a href=\"https://colab.research.google.com/github/AnnSenina/Python_for_CL/blob/main/notebooks/Python_14_intro_to_OOP.ipynb\" target=\"_parent\"><img src=\"https://colab.research.google.com/assets/colab-badge.svg\" alt=\"Open In Colab\"/></a>"
      ]
    },
    {
      "cell_type": "markdown",
      "metadata": {
        "id": "3PK6XiSZiGEE"
      },
      "source": [
        "# Введение в ООП в питоне\n",
        "\n",
        "ООП (объектно-ориентированное программирование) -- это парадигма, которая фокусируется на создании кода как набора взаимосвязанных \"блоков\" и описании их работы. \n",
        "\n"
      ]
    },
    {
      "cell_type": "markdown",
      "source": [
        "![image_processing20221124-29-v33yi5.png](https://cdn2.hexlet.io/derivations/image/original/eyJpZCI6IjMwODUxYWRkZjIxMjI5ZGEzMTk2N2VmZjA4N2VkNjk5LnBuZyIsInN0b3JhZ2UiOiJjYWNoZSJ9?signature=260c4f58b58d5a9947013cee8375ab2db2354596a6adfbeb9591f872759fd54b)\n",
        "\n",
        "[Картинка](https://ru.hexlet.io/courses/php-functions/lessons/paradigms/theory_unit)"
      ],
      "metadata": {
        "id": "FpOV3zKoT4_3"
      }
    },
    {
      "cell_type": "markdown",
      "source": [
        "Инкапсуляция\n",
        "\n",
        "Cокрытие деталей реализации, данных и т.п. от внешней стороны. \n",
        "\n",
        "Наследование\n",
        "\n",
        "Под наследованием понимается возможность создания нового класса на базе существующего. Наследование предполагает наличие отношения “является” между классом наследником и классом родителем. При этом класс потомок будет содержать те же атрибуты и методы, что и базовый класс, но при этом его можно (и нужно) расширять через добавление новых методов и атрибутов.\n",
        "\n",
        "Полиморфизм\n",
        "\n",
        "Полиморфизм позволяет одинаково обращаться с объектами, имеющими однотипный интерфейс, независимо от внутренней реализации объекта. Другими словами полиморфизм предполагает разную реализацию методов с одинаковыми именами"
      ],
      "metadata": {
        "id": "KuvLORfCUb6f"
      }
    },
    {
      "cell_type": "markdown",
      "source": [
        "Два основных термина в парадигме ООП -- это объекты и классы. Классы -- это такие \"шаблоны\", по которым создаются объекты *(представьте план построения дома и готовый дом)*\n",
        "\n",
        "Чтобы создать объект, сначала нужен его \"шаблон\", класс. Класс описывает, что объект умеет делать и какими характеристиками обладает.\n",
        "\n",
        "Объект -- это некоторая абстракция, объектом может быть что угодно. Например, виртуальный котик.\n",
        "\n",
        "Давайте создадим класс, который опишет его умения и характеристики:"
      ],
      "metadata": {
        "id": "YWXxIKQGTfZy"
      }
    },
    {
      "cell_type": "code",
      "execution_count": 16,
      "metadata": {
        "id": "93tj76rHiGEV"
      },
      "outputs": [],
      "source": [
        "# Simple Virtual Cat\n",
        "\n",
        "#создаем класс:\n",
        "class Cat(object): # в скобках указывается класс-родитель (если он есть), или универсальный встроенный тип object\n",
        "    \"\"\"A virtual pet\"\"\" # здесь идет документация класса, какого рода объекты можно создавать с помощью класса\n",
        "    \n",
        "    # самое время определить методы (= что объекты этого класса смогут делать). Метод = функция, принадлежащая объекту\n",
        "\n",
        "    # первый навык \n",
        "    def talk(self): # объявляем метод\n",
        "\n",
        "        print(\"\\nHi. I'm an instance of class Cat.\\n\")\n",
        "\n",
        "        # return # методы могут что-то возвращать, при необходимости\n",
        "\n",
        "    # второй навык \n",
        "    def sleep(self):\n",
        "        #try:\n",
        "        #     x = float(input('insert a number:')) # условие, напишем через try-except чтобы исключить неверные типы ввода\n",
        "        #     print(\"\\nI'm off to sleep for\", x, \"hours, bye!\\n\")\n",
        "        #except:\n",
        "        #     print('\\nthis is not a number, I need a number\\n') # ветка для ситуаций, если пользователь ввел не число\n",
        "        print(\"*sleeping*\") \n",
        "           "
      ]
    },
    {
      "cell_type": "markdown",
      "metadata": {
        "id": "7GT5nQqmcWbT"
      },
      "source": [
        "**про self** \n",
        "\n",
        "Как первый параметр любого метода, self автоматически\n",
        "становится ссылкой на объект, по отношению к которому вызван\n",
        "метод. Это значит, что через self метод получает доступ к вызывающему объекту,\n",
        "к его атрибутам и методам (он может, в частности, создавать у объекта новые атрибуты).\n",
        "\n",
        "Для простоты: вместо self мможно подставить любого конкретного коттика - объект, один экземпляр класса котиков вообще\n",
        "\n",
        "Мы прописали два начальных метода для класса. Теперь все котики (=объекты), созданные от этого класса, будут уметь говорить (```.talk()```) и спать(```.sleep()```)\n",
        "\n",
        "Самое время создать первый объект:"
      ]
    },
    {
      "cell_type": "code",
      "execution_count": null,
      "metadata": {
        "id": "DzKmQF-DiGFI"
      },
      "outputs": [],
      "source": [
        "# создаем объект класса Cat, сохраняем в какую-нибудь переменную\n",
        "kitten = Cat()\n",
        "# теперь kitten - наш объект класса, он умеет делать то же самое, что и весь класс котиков, обладает свойствами класса и т.д.\n",
        "# где мы это видели? \n",
        "# зачем все это?\n",
        "\n",
        "# у этого объекта есть все методы класса \n",
        "kitten.talk()"
      ]
    },
    {
      "cell_type": "code",
      "execution_count": null,
      "metadata": {
        "id": "0elZeUIydU3I"
      },
      "outputs": [],
      "source": [
        "kitten.sleep()"
      ]
    },
    {
      "cell_type": "markdown",
      "metadata": {
        "id": "VnZldnosiGF5"
      },
      "source": [
        "### метод-конструктор ≈ метод ```__init__``` (метод инициализации)\n",
        "\n",
        "Иногда методы удобно вызывать не вручную, а сразу при создании нового объекта (обычно это нужно, чтобы установить начальные значения атрибутов объекта) <br>\n",
        "В Python есть специальный синтаксис*, метод-конструктор ```__init__``` . \n",
        "\n",
        " ```__init__()``` будет автоматически вызываться при возникновении каждого очередного объекта заданного класса. \n",
        " \n",
        "------------------\n",
        "*В Python есть [набор встроенных «специальных методов»](https://www.tutorialsteacher.com/python/magic-methods-in-python), имена которых начинаются и заканчиваются\n",
        "двумя знаками подчеркивания. Метод-конструктор __init__ - один из них.*"
      ]
    },
    {
      "cell_type": "code",
      "execution_count": 20,
      "metadata": {
        "id": "kSOjBE5diGGJ"
      },
      "outputs": [],
      "source": [
        "# вот так работает метод-конструктор\n",
        "\n",
        "class Cat(object): # задали класс\n",
        "    \"\"\"A virtual pet\"\"\"\n",
        "    \n",
        "    def __init__ (self): #init-метод, он вызовется автоматом\n",
        "        print(\"New cat is created!\")\n",
        "        \n",
        "    # задаем остальные методы\n",
        "    def talk(self): # объявляем метод\n",
        "        print(\"\\nHi. I'm an instance of class Cat.\\n\")\n",
        "        \n",
        "    def sleep(self):\n",
        "        try:\n",
        "            x = float(input('insert a number:')) #a piece of code where eceptions may appear\n",
        "        except:\n",
        "            print('\\nthis is not a number, I need a number\\n') #what to do in cade of exception\n",
        "        else:\n",
        "            print(\"\\nI'm off to sleep for\", x, \"hours, bye!\\n\") #what to do if no exceptions arise\n",
        "        print(\"*sleeping*\") "
      ]
    },
    {
      "cell_type": "code",
      "execution_count": null,
      "metadata": {
        "id": "djMJ77mGiGHE"
      },
      "outputs": [],
      "source": [
        "# основная часть - создаем объект\n",
        "cat = Cat()"
      ]
    },
    {
      "cell_type": "code",
      "execution_count": null,
      "metadata": {
        "id": "BDv5cFdUiGIT",
        "scrolled": true
      },
      "outputs": [],
      "source": [
        "#методы в классах, которые мы вызываем вручную\n",
        "cat.talk()\n",
        "cat.sleep()"
      ]
    },
    {
      "cell_type": "markdown",
      "metadata": {
        "id": "kLsehRTziGJT"
      },
      "source": [
        "**У классов, помимо методов, есть свойства**\n",
        "\n",
        "Свойства (иногда \"атрибуты\", в английском -- \"class properties\") -- это информация, которая характеризует объекты заданного класса\n",
        "\n"
      ]
    },
    {
      "cell_type": "code",
      "execution_count": 23,
      "metadata": {
        "id": "N3qphMj9iGJZ"
      },
      "outputs": [],
      "source": [
        "# creating and accessing object attributes\n",
        "\n",
        "class Cat(object): # задали класс\n",
        "    \"\"\"A virtual pet class\"\"\" \n",
        "    \n",
        "    def __init__(self, name): # метод-конструктор \n",
        "        self.name = name # self.name - это свойство для объекта класса \n",
        "        # Его значение будет равно параметру \"name\" который запрашивается при вызове метода\n",
        "        # так как метод обращается к объекту, значение для параметра name передаем сразу в скобочках при создании объекта\n",
        "        print(\"A new cat is created, called \",name)\n",
        "\n",
        " \n",
        "    def talk(self): # the talk() method receives the automatically sent reference to the object into its self parameter\n",
        "        print(\"Hi. I'm\", self.name, \"\\n\") # the print function displays the text \n",
        "        # by accessing the attribute name of the object through self.name\n",
        "\n",
        "    def sleep(self):\n",
        "        try:\n",
        "            x = float(input('insert a number:')) #a piece of code where eceptions may appear\n",
        "        except:\n",
        "            print('\\nthis is not a number, I need a number\\n') #what to do in cade of exception\n",
        "        else:\n",
        "            print(\"\\nI'm off to sleep for\", x, \"hours, bye!\\n\") #what to do if no exceptions arise   \n",
        "        print(\"*sleeping*\") "
      ]
    },
    {
      "cell_type": "code",
      "execution_count": null,
      "metadata": {
        "id": "RhiDdDv8pM9f"
      },
      "outputs": [],
      "source": [
        "# main\n",
        "\n",
        "cat = Cat(\"Milk\") # создали объект, передали значение имени\n",
        "cat.talk() # вызовем метод, теперь он подскажет имя конкретного объекта\n",
        "\n",
        "# а так осуществляется прямой доступ к свойству\n",
        "print(cat.name) # свойства вызываются без скобочек "
      ]
    },
    {
      "cell_type": "markdown",
      "metadata": {
        "id": "apwoF4GStaGA"
      },
      "source": [
        "котики - это конечно хорошо, но как это связано с компьютерной лингвистикой?"
      ]
    },
    {
      "cell_type": "code",
      "execution_count": 27,
      "metadata": {
        "id": "SXN8s8GYtYW8"
      },
      "outputs": [],
      "source": [
        "example = \"TODAY I have received a lot of telephone calls!\""
      ]
    },
    {
      "cell_type": "code",
      "execution_count": 29,
      "metadata": {
        "id": "gr5-mBgxHqzc"
      },
      "outputs": [],
      "source": [
        "class NLP(object):\n",
        "    def __init__(self, text):\n",
        "        self.text = text\n",
        "\n",
        "    def preprocess(self):\n",
        "        return self.text.lower().strip().split()\n",
        "    \n"
      ]
    },
    {
      "cell_type": "code",
      "execution_count": null,
      "metadata": {
        "id": "L50fDzcRCXtJ"
      },
      "outputs": [],
      "source": [
        "res = NLP(example)\n",
        "\n",
        "print(res.text) # аналогично cat.name"
      ]
    },
    {
      "cell_type": "code",
      "source": [
        "res.preprocess()"
      ],
      "metadata": {
        "id": "v6MHKt73seVf"
      },
      "execution_count": null,
      "outputs": []
    },
    {
      "cell_type": "markdown",
      "metadata": {
        "id": "nkXTSanaC24n"
      },
      "source": [
        "### бонус\n",
        "\n",
        "Атрибуты позволяют определять уникальные характеристики объектов: наприер, можно создать 10 котиков, каждый с уникальным именем\n",
        "\n",
        "Однако иногда нам может потребоваться информация о чем-то внутри класса. Например, общее количество созданных объектов. Нам понадобится class attribute и static method\n",
        "\n",
        "Атрибут класса (**class attribute**)  -- это такой специальный атрибут, универсальный для всех объектов класса\n",
        "\n",
        "**Static method**  -- метод, связанный с классом, недоступный объектам класса\n",
        "\n"
      ]
    },
    {
      "cell_type": "code",
      "execution_count": 41,
      "metadata": {
        "id": "AKkWsYDePyxQ"
      },
      "outputs": [],
      "source": [
        "# class attributes, static methods\n",
        "\n",
        "class Cat(object):\n",
        "    \"\"\"A virtual pet\"\"\"\n",
        "    total = 0 # ставим 0 для первого вызова класса - когда передадим объекты, показатель изменится\n",
        "\n",
        "    @staticmethod # декоратор* \n",
        "    def status(): # без self!\n",
        "        print(\"\\nThe total number of cats now is\", Cat.total) # напечатает количество объектов\n",
        "        # функция напишет нам значение счетчика\n",
        "        # при создании каждого нового котика мы ниже будет менять его значение\n",
        "        \n",
        "    def __init__(self, name): #метод-конструктор, автоматически вызывается при создании объекта\n",
        "        print(\"A new cat is created!\")\n",
        "        self.name = name\n",
        "        Cat.total += 1 "
      ]
    },
    {
      "cell_type": "code",
      "source": [
        "help(staticmethod)"
      ],
      "metadata": {
        "id": "A3fev9vevWLZ"
      },
      "execution_count": null,
      "outputs": []
    },
    {
      "cell_type": "markdown",
      "source": [
        "*Декоратор - это обертка для функции, которая расширяет ее функционал, например, за счет другой функции внутри декоратора*\n",
        "\n",
        "Простые объяснения [здесь](https://tproger.ru/translations/demystifying-decorators-in-python/)\n",
        "\n",
        "Примеры нескольких полезных декораторов [здесь](https://tirinox.ru/useful-decorators/)"
      ],
      "metadata": {
        "id": "0JDNT_A-u9mh"
      }
    },
    {
      "cell_type": "code",
      "execution_count": null,
      "metadata": {
        "id": "0wpS1nNm88D_"
      },
      "outputs": [],
      "source": [
        "print(\"Counting cats. Current amount of cats is \", Cat.total) #мы еще не передали котиков, проверим наш счетчик\n",
        "\n",
        "print(\"\\tLet's create cats.\")\n",
        "\n",
        "gatto1 = Cat(\"Pusheen\")\n",
        "gatto2 = Cat(\"Daisy\")\n",
        "gatto3 = Cat(\"Bob\")\n",
        "\n",
        "print(Cat.total) # посмотрим значение атрибута total для класса\n",
        "Cat.status() # или вызываем функцию для класса в целом"
      ]
    },
    {
      "cell_type": "code",
      "execution_count": null,
      "metadata": {
        "id": "yOsPoiUMsGec"
      },
      "outputs": [],
      "source": [
        "# но через одного котика тоже вызвать можно\n",
        "print(gatto1.total) # вызов через атрибут класса"
      ]
    },
    {
      "cell_type": "markdown",
      "metadata": {
        "id": "MMAqkZstxoru"
      },
      "source": [
        "\n",
        "ООП - это целая парадигма, пока мы только создали классы и объекты\n",
        "([а здесь хороший развернутый гайд](https://www.datacamp.com/community/tutorials/python-oop-tutorial))"
      ]
    },
    {
      "cell_type": "markdown",
      "source": [
        "### Доп. задание: создаем свою NLP-библиотеку\n",
        "\n",
        "дополните класс NLP, объединив в нем все этапы анализа текстов, которые можете реализовать\n",
        "\n",
        "пропроцессинг, лемматизация, подсчет n-gram, визуализация и др."
      ],
      "metadata": {
        "id": "g57OmzE5xoYd"
      }
    },
    {
      "cell_type": "code",
      "source": [],
      "metadata": {
        "id": "VjMLeXFmzw6V"
      },
      "execution_count": null,
      "outputs": []
    }
  ],
  "metadata": {
    "colab": {
      "provenance": [],
      "include_colab_link": true
    },
    "kernelspec": {
      "display_name": "Python 3",
      "language": "python",
      "name": "python3"
    },
    "language_info": {
      "codemirror_mode": {
        "name": "ipython",
        "version": 3
      },
      "file_extension": ".py",
      "mimetype": "text/x-python",
      "name": "python",
      "nbconvert_exporter": "python",
      "pygments_lexer": "ipython3",
      "version": "3.8.2"
    }
  },
  "nbformat": 4,
  "nbformat_minor": 0
}